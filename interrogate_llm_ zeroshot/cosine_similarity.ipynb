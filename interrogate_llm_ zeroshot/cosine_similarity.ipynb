{
 "cells": [
  {
   "cell_type": "markdown",
   "id": "8b63f640",
   "metadata": {},
   "source": [
    "#### Set Up"
   ]
  },
  {
   "cell_type": "code",
   "execution_count": 7,
   "id": "ab57a809",
   "metadata": {},
   "outputs": [],
   "source": [
    "from dotenv import load_dotenv\n",
    "import os\n",
    "from gpt_model import OpenAIEmbeddingClient\n",
    "\n",
    "load_dotenv()\n",
    "client = OpenAIEmbeddingClient(api_key=os.getenv('OPENAI_API_KEY'), model='text-embedding-3-large')"
   ]
  },
  {
   "cell_type": "code",
   "execution_count": 8,
   "id": "6f3e9ff5",
   "metadata": {},
   "outputs": [],
   "source": [
    "from utils import load_data_json, get_cosine_similarity\n",
    "\n",
    "filepath_output_halu_eval_long_answer = '../data/output/interrogate_llm_zeroshot/re_questions/halu_eval_long_answer.json'\n",
    "filepath_output_halu_eval_long_answer_knowledge = '../data/output/interrogate_llm_zeroshot/re_questions/halu_eval_long_answer_knowledge.json'\n",
    "filepath_output_books = '../data/output/interrogate_llm_zeroshot/re_questions/books.json'\n",
    "\n",
    "output_halu_eval_long_answer = load_data_json(filepath_output_halu_eval_long_answer)\n",
    "output_halu_eval_long_answer_knowledge = load_data_json(filepath_output_halu_eval_long_answer_knowledge)\n",
    "output_books = load_data_json(filepath_output_books)"
   ]
  },
  {
   "cell_type": "markdown",
   "id": "71db202d",
   "metadata": {},
   "source": [
    "#### Cosine Similarity"
   ]
  },
  {
   "cell_type": "code",
   "execution_count": 9,
   "id": "3c96ab00",
   "metadata": {},
   "outputs": [],
   "source": [
    "from tqdm import tqdm\n",
    "\n",
    "def process_output(data):\n",
    "    res = []\n",
    "\n",
    "    for idx, sample in enumerate(tqdm(data, desc='Processing data:')):\n",
    "        question = sample['question']\n",
    "        re_questions = sample['reconstruct_questions']\n",
    "        \n",
    "        question_embedding = client.get_embedding(question)\n",
    "        re_questions_embedding = [client.get_embedding(re_question) for re_question in re_questions]\n",
    "\n",
    "        cosine_similarity = get_cosine_similarity(question_embedding, re_questions_embedding)\n",
    "        sample['cosine_similarity'] = float(cosine_similarity)\n",
    "        res.append(sample)\n",
    "    return res"
   ]
  },
  {
   "cell_type": "code",
   "execution_count": 4,
   "id": "6311a845",
   "metadata": {},
   "outputs": [
    {
     "name": "stderr",
     "output_type": "stream",
     "text": [
      "Processing data:: 100%|██████████| 10/10 [00:33<00:00,  3.39s/it]\n"
     ]
    }
   ],
   "source": [
    "import json\n",
    "\n",
    "res_halu_eval_long_answer = process_output(output_halu_eval_long_answer)\n",
    "\n",
    "with open('../data/output/interrogate_llm_zeroshot/cosine_similarity/halu_eval_long_answer.json', 'w', encoding='utf-8') as f:\n",
    "    json.dump(res_halu_eval_long_answer, f, indent=4)"
   ]
  },
  {
   "cell_type": "code",
   "execution_count": 5,
   "id": "2898d9ab",
   "metadata": {},
   "outputs": [
    {
     "name": "stderr",
     "output_type": "stream",
     "text": [
      "Processing data:: 100%|██████████| 10/10 [00:29<00:00,  2.91s/it]\n"
     ]
    }
   ],
   "source": [
    "import json\n",
    "\n",
    "res_halu_eval_long_answer_knowledge = process_output(output_halu_eval_long_answer_knowledge)\n",
    "\n",
    "with open('../data/output/interrogate_llm_zeroshot/cosine_similarity/halu_eval_long_answer_knowledge.json', 'w', encoding='utf-8') as f:\n",
    "    json.dump(res_halu_eval_long_answer_knowledge, f, indent=4)"
   ]
  },
  {
   "cell_type": "code",
   "execution_count": 10,
   "id": "09fab081",
   "metadata": {},
   "outputs": [
    {
     "name": "stderr",
     "output_type": "stream",
     "text": [
      "Processing data:: 100%|██████████| 20/20 [01:07<00:00,  3.40s/it]\n"
     ]
    }
   ],
   "source": [
    "import json\n",
    "\n",
    "res_books = process_output(output_books)\n",
    "\n",
    "with open('../data/output/interrogate_llm_zeroshot/cosine_similarity/books.json', 'w', encoding='utf-8') as f:\n",
    "    json.dump(res_books, f, indent=4)"
   ]
  }
 ],
 "metadata": {
  "kernelspec": {
   "display_name": "bachelor-thesis",
   "language": "python",
   "name": "python3"
  },
  "language_info": {
   "codemirror_mode": {
    "name": "ipython",
    "version": 3
   },
   "file_extension": ".py",
   "mimetype": "text/x-python",
   "name": "python",
   "nbconvert_exporter": "python",
   "pygments_lexer": "ipython3",
   "version": "3.13.2"
  }
 },
 "nbformat": 4,
 "nbformat_minor": 5
}
