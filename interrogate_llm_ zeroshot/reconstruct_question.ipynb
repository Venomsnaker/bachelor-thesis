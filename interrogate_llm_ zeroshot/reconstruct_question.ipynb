{
 "cells": [
  {
   "cell_type": "markdown",
   "id": "30f01477",
   "metadata": {},
   "source": [
    "#### Set Up"
   ]
  },
  {
   "cell_type": "code",
   "execution_count": 11,
   "id": "ffd067b0",
   "metadata": {},
   "outputs": [],
   "source": [
    "import os\n",
    "from dotenv import load_dotenv\n",
    "\n",
    "from gpt_model import OpenAIClient\n",
    "\n",
    "load_dotenv()\n",
    "openai_api_key = os.getenv('OPENAI_API_KEY')\n",
    "client = OpenAIClient(api_key=openai_api_key, model='gpt-4.1-mini-2025-04-14')"
   ]
  },
  {
   "cell_type": "code",
   "execution_count": 12,
   "id": "e2ae17e1",
   "metadata": {},
   "outputs": [
    {
     "name": "stdout",
     "output_type": "stream",
     "text": [
      "Length of HaluEval Long Answer data: 300\n",
      "Length of Books data: 498\n"
     ]
    }
   ],
   "source": [
    "from utils import load_data_json\n",
    "\n",
    "filepath_halu_eval = '../data/interrogate_llm_zeroshot/halu_eval.json'\n",
    "filepath_halu_eval_long_answer = '../data/interrogate_llm_zeroshot/halu_eval_long_answer.json'\n",
    "filepath_books = '../data/interrogate_llm_zeroshot/books.json'\n",
    "\n",
    "data_halu_eval_long_answer = load_data_json(filepath_halu_eval_long_answer)\n",
    "data_books = load_data_json(filepath_books)\n",
    "\n",
    "print(f\"Length of HaluEval Long Answer data: {len(data_halu_eval_long_answer)}\")\n",
    "print(f\"Length of Books data: {len(data_books)}\")"
   ]
  },
  {
   "cell_type": "code",
   "execution_count": 13,
   "id": "88322c8e",
   "metadata": {},
   "outputs": [],
   "source": [
    "filepath_reconstruct_prompt = 'prompts/reconstruct.txt'\n",
    "filepath_reconstruct_prompt_knowledge = 'prompts/reconstruct_with_knowledge.txt'\n",
    "filepath_reconstruct_prompt_books = 'prompts/reconstruct_books.txt'\n",
    "\n",
    "with open(filepath_reconstruct_prompt, 'r', encoding='utf-8') as f:\n",
    "    reconstruct_prompt_template = f.read()\n",
    "\n",
    "with open(filepath_reconstruct_prompt_knowledge, 'r', encoding='utf-8') as f:\n",
    "    reconstruct_with_knowledge_prompt_template = f.read()\n",
    "\n",
    "with open(filepath_reconstruct_prompt_books, 'r', encoding='utf-8') as f:\n",
    "    reconstruct_books_prompt_template = f.read()"
   ]
  },
  {
   "cell_type": "code",
   "execution_count": 14,
   "id": "af489b65",
   "metadata": {},
   "outputs": [],
   "source": [
    "filepath_output_halu_eval_long_answer = '../data/output/interrogate_llm_zeroshot/halu_eval_long_answer.json'\n",
    "filepath_output_halu_eval_long_answer_knowledge = '../data/output/interrogate_llm_zeroshot/halu_eval_long_answer_with_knowledge.json'\n",
    "filepath_output_books = '../data/output/interrogate_llm_zeroshot/books.json'\n",
    "\n",
    "output_halu_eval_long_answer = load_data_json(filepath_output_halu_eval_long_answer)\n",
    "output_halu_eval_long_answer_knowledge = load_data_json(filepath_output_halu_eval_long_answer_knowledge)\n",
    "output_books = load_data_json(filepath_output_books)"
   ]
  },
  {
   "cell_type": "markdown",
   "id": "fb8beb0c",
   "metadata": {},
   "source": [
    "#### HaluEval Long Answer"
   ]
  },
  {
   "cell_type": "code",
   "execution_count": 15,
   "id": "abe82016",
   "metadata": {},
   "outputs": [
    {
     "name": "stderr",
     "output_type": "stream",
     "text": [
      "Processing data: 100%|██████████| 10/10 [00:00<00:00, 169125.16it/s]\n"
     ]
    }
   ],
   "source": [
    "from tqdm import tqdm\n",
    "\n",
    "if len(output_halu_eval_long_answer) > 0: \n",
    "    processed_ids = [sample['id'] for sample in output_halu_eval_long_answer]\n",
    "else:\n",
    "    processed_ids = []\n",
    "\n",
    "for idx, sample in enumerate(tqdm(data_halu_eval_long_answer[:10], desc=\"Processing data\")):\n",
    "    if sample['id'] in processed_ids:\n",
    "        continue\n",
    "\n",
    "    reconstruct_prompt = reconstruct_prompt_template.format(\n",
    "        answer=sample['answer']\n",
    "    )\n",
    "    response = client.generate_response(reconstruct_prompt, n=3, temeprature=1)\n",
    "    output_halu_eval_long_answer.append(\n",
    "        {\n",
    "            \"id\": sample['id'],\n",
    "            \"knowledge\": sample[\"knowledge\"],\n",
    "            \"ground_truth\": sample[\"ground_truth\"],\n",
    "            \"question\": sample[\"question\"],\n",
    "            \"answer\": sample[\"answer\"],\n",
    "            \"reconstruct_questions\": [question.strip('\"') for question in response],\n",
    "            \"is_hallucinated\": sample['is_hallucinated']\n",
    "        }\n",
    "    )"
   ]
  },
  {
   "cell_type": "code",
   "execution_count": 16,
   "id": "6d2afabd",
   "metadata": {},
   "outputs": [],
   "source": [
    "import json\n",
    "\n",
    "with open(filepath_output_halu_eval_long_answer, 'w', encoding='utf-8') as f:\n",
    "    json.dump(output_halu_eval_long_answer, f, indent=4)"
   ]
  },
  {
   "cell_type": "markdown",
   "id": "8a19a5a9",
   "metadata": {},
   "source": [
    "#### HaluEval Long Answer w/ Knowledge"
   ]
  },
  {
   "cell_type": "code",
   "execution_count": 17,
   "id": "ee733106",
   "metadata": {},
   "outputs": [
    {
     "name": "stderr",
     "output_type": "stream",
     "text": [
      "Processing data: 100%|██████████| 10/10 [00:00<00:00, 94893.76it/s]\n"
     ]
    }
   ],
   "source": [
    "from tqdm import tqdm\n",
    "\n",
    "if len(output_halu_eval_long_answer_knowledge) > 0: \n",
    "    processed_ids = [sample['id'] for sample in output_halu_eval_long_answer_knowledge]\n",
    "else:\n",
    "    processed_ids = []\n",
    "\n",
    "for idx, sample in enumerate(tqdm(data_halu_eval_long_answer[:10], desc=\"Processing data\")):\n",
    "    if sample['id'] in processed_ids:\n",
    "        continue\n",
    "\n",
    "    reconstruct_prompt = reconstruct_with_knowledge_prompt_template.format(\n",
    "        answer=sample['answer'],\n",
    "        knowledge=sample['knowledge'],\n",
    "    )\n",
    "    response = client.generate_response(reconstruct_prompt, n=3, temeprature=1)\n",
    "    output_halu_eval_long_answer_knowledge.append(\n",
    "        {\n",
    "            \"id\": sample['id'],\n",
    "            \"knowledge\": sample[\"knowledge\"],\n",
    "            \"ground_truth\": sample[\"ground_truth\"],\n",
    "            \"question\": sample[\"question\"],\n",
    "            \"answer\": sample[\"answer\"],\n",
    "            \"reconstruct_questions\": [question.strip('\"') for question in response],\n",
    "            \"is_hallucinated\": sample['is_hallucinated']\n",
    "        }\n",
    "    )"
   ]
  },
  {
   "cell_type": "code",
   "execution_count": 18,
   "id": "a880c5ec",
   "metadata": {},
   "outputs": [],
   "source": [
    "import json\n",
    "\n",
    "with open(filepath_output_halu_eval_long_answer_knowledge, 'w', encoding='utf-8') as f:\n",
    "    json.dump(output_halu_eval_long_answer_knowledge, f, indent=4)"
   ]
  },
  {
   "cell_type": "markdown",
   "id": "1ef207f2",
   "metadata": {},
   "source": [
    "#### Books"
   ]
  },
  {
   "cell_type": "code",
   "execution_count": 19,
   "id": "fa1b6383",
   "metadata": {},
   "outputs": [
    {
     "name": "stderr",
     "output_type": "stream",
     "text": [
      "Processing data: 100%|██████████| 10/10 [01:32<00:00,  9.26s/it]\n"
     ]
    }
   ],
   "source": [
    "from tqdm import tqdm\n",
    "\n",
    "if len(output_books) > 0: \n",
    "    processed_ids = [sample['id'] for sample in output_books]\n",
    "else:\n",
    "    processed_ids = []\n",
    "\n",
    "for idx, sample in enumerate(tqdm(data_books[:10], desc=\"Processing data\")):\n",
    "    if sample['id'] in processed_ids:\n",
    "        continue\n",
    "    reconstruct_prompt = reconstruct_books_prompt_template.format(\n",
    "        answer=sample['answer'],\n",
    "    )\n",
    "    response = client.generate_response(reconstruct_prompt, n=3, temeprature=1)\n",
    "    output_books.append(\n",
    "        {\n",
    "            \"id\": sample['id'],\n",
    "            \"question\": sample[\"question\"],\n",
    "            \"answer\": sample[\"answer\"],\n",
    "            \"reconstruct_questions\": [question.strip('\"') for question in response],\n",
    "            \"is_hallucinated\": sample['is_hallucinated']\n",
    "        }\n",
    "    )"
   ]
  },
  {
   "cell_type": "code",
   "execution_count": 20,
   "id": "5f9a5d7d",
   "metadata": {},
   "outputs": [],
   "source": [
    "import json\n",
    "\n",
    "with open(filepath_output_books, 'w', encoding='utf-8') as f:\n",
    "    json.dump(output_books, f, indent=4)"
   ]
  }
 ],
 "metadata": {
  "kernelspec": {
   "display_name": "bachelor-thesis",
   "language": "python",
   "name": "python3"
  },
  "language_info": {
   "codemirror_mode": {
    "name": "ipython",
    "version": 3
   },
   "file_extension": ".py",
   "mimetype": "text/x-python",
   "name": "python",
   "nbconvert_exporter": "python",
   "pygments_lexer": "ipython3",
   "version": "3.13.2"
  }
 },
 "nbformat": 4,
 "nbformat_minor": 5
}
