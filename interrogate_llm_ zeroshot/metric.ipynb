{
 "cells": [
  {
   "cell_type": "code",
   "execution_count": 6,
   "id": "ab57a809",
   "metadata": {},
   "outputs": [
    {
     "data": {
      "text/plain": [
       "True"
      ]
     },
     "execution_count": 6,
     "metadata": {},
     "output_type": "execute_result"
    }
   ],
   "source": [
    "from dotenv import load_dotenv\n",
    "\n",
    "load_dotenv()"
   ]
  },
  {
   "cell_type": "code",
   "execution_count": 7,
   "id": "6f3e9ff5",
   "metadata": {},
   "outputs": [],
   "source": [
    "import os\n",
    "from gpt_model import OpenAIEmbeddingClient\n",
    "\n",
    "openai_api_key = os.getenv('OPENAI_API_KEY')\n",
    "client = OpenAIEmbeddingClient(api_key=openai_api_key)"
   ]
  },
  {
   "cell_type": "code",
   "execution_count": 11,
   "id": "58b4d27d",
   "metadata": {},
   "outputs": [
    {
     "name": "stdout",
     "output_type": "stream",
     "text": [
      "Length of HaluEval output: 300\n",
      "\n"
     ]
    }
   ],
   "source": [
    "from utils import load_data_halu_eval, get_cosine_similarity\n",
    "\n",
    "output_halu_eval_file_path = '../data/output/interrogate_llm_zeroshot/halu_eval_long_answer_output.json'\n",
    "output_halu_eval_cosine_similarity_file_path = '../data/output/interrogate_llm_zeroshot/halu_eval_long_answer_cosine_similarity.json'\n",
    "\n",
    "output = load_data_halu_eval(output_halu_eval_file_path)\n",
    "print(f\"Length of HaluEval output: {len(output)}\\n\")"
   ]
  },
  {
   "cell_type": "code",
   "execution_count": 9,
   "id": "87edee2d",
   "metadata": {},
   "outputs": [
    {
     "name": "stderr",
     "output_type": "stream",
     "text": [
      "Processing output: 100%|██████████| 300/300 [19:57<00:00,  3.99s/it]\n"
     ]
    }
   ],
   "source": [
    "from tqdm import tqdm\n",
    "\n",
    "result = []\n",
    "\n",
    "for idx, sample in enumerate(tqdm(output, desc=\"Processing output\")):\n",
    "    question = sample['question']\n",
    "    reconstruct_questions = sample['reconstruct_questions']\n",
    "\n",
    "    embedded_question = client.get_embedding(question)\n",
    "    embedded_reconstruct_question = [client.get_embedding(reconstruct_question) for reconstruct_question in reconstruct_questions]\n",
    "\n",
    "    cosine_similarity = get_cosine_similarity(embedded_question, embedded_reconstruct_question)\n",
    "    result.append({\n",
    "            \"id\": sample['id'],\n",
    "            \"knowledge\": sample[\"knowledge\"],\n",
    "            \"ground_truth\": sample[\"ground_truth\"],\n",
    "            \"question\": sample[\"question\"],\n",
    "            \"answer\": sample[\"answer\"],\n",
    "            \"reconstruct_question\": sample['reconstruct_questions'],\n",
    "            \"is_hallucinated\": sample['is_hallucinated'],\n",
    "            \"cosine_similarity\": float(cosine_similarity)\n",
    "        })"
   ]
  },
  {
   "cell_type": "code",
   "execution_count": 14,
   "id": "d7c64e38",
   "metadata": {},
   "outputs": [],
   "source": [
    "import json\n",
    "\n",
    "with open(output_halu_eval_cosine_similarity_file_path, 'w', encoding='utf-8') as f:\n",
    "    json.dump(result, f, indent=4)"
   ]
  }
 ],
 "metadata": {
  "kernelspec": {
   "display_name": "bachelor-thesis",
   "language": "python",
   "name": "python3"
  },
  "language_info": {
   "codemirror_mode": {
    "name": "ipython",
    "version": 3
   },
   "file_extension": ".py",
   "mimetype": "text/x-python",
   "name": "python",
   "nbconvert_exporter": "python",
   "pygments_lexer": "ipython3",
   "version": "3.13.2"
  }
 },
 "nbformat": 4,
 "nbformat_minor": 5
}
