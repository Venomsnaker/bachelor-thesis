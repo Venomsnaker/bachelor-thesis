{
 "cells": [
  {
   "cell_type": "markdown",
   "id": "8688d150",
   "metadata": {},
   "source": [
    "#### Set Up"
   ]
  },
  {
   "cell_type": "code",
   "execution_count": 1,
   "id": "0ca22881",
   "metadata": {},
   "outputs": [],
   "source": [
    "from utils import load_data_json\n",
    "\n",
    "books = load_data_json('../data/output/interrogate_llm_zeroshot/cosine_similarity/books.json')\n",
    "halu_eval_long_answer = load_data_json('../data/output/interrogate_llm_zeroshot/cosine_similarity/halu_eval_long_answer.json')\n",
    "halu_eval_long_answer_knowledge = load_data_json('../data/output/interrogate_llm_zeroshot/cosine_similarity/halu_eval_long_answer_knowledge.json')"
   ]
  },
  {
   "cell_type": "code",
   "execution_count": 2,
   "id": "49f2ca61",
   "metadata": {},
   "outputs": [],
   "source": [
    "from sklearn.metrics import f1_score, accuracy_score, precision_score, recall_score, roc_auc_score, balanced_accuracy_score\n",
    "from sklearn.model_selection import train_test_split\n",
    "import numpy as np\n",
    "\n",
    "TEST_SIZE=0.3\n",
    "SEED=42\n",
    "\n",
    "def get_evaluation_metrics(data):\n",
    "    scores = np.array([sample['cosine_similarity'] for sample in data])\n",
    "    y_true = np.array([sample['is_hallucinated'] for sample in data])\n",
    "\n",
    "    scores_train, scores_test, y_train, y_test = train_test_split(\n",
    "        scores, y_true, test_size=TEST_SIZE, stratify=y_true, random_state=SEED)\n",
    "    \n",
    "    # Find the optimal F1 score threshold\n",
    "    thresholds = np.linspace(0, 1, 101)\n",
    "    f1_scores = []\n",
    "\n",
    "    for t in thresholds:\n",
    "        y_pred_train = (scores_train >= t).astype(int)\n",
    "        f1_scores.append(f1_score(y_train, y_pred_train))\n",
    "\n",
    "    best_f1_threshold = thresholds[np.argmax(f1_scores)]\n",
    "    y_pred_test = (scores_test >= best_f1_threshold).astype(int)\n",
    "    return {\n",
    "        'F1 best threshold': best_f1_threshold,\n",
    "        'F1 Score': f1_score(y_test, y_pred_test),\n",
    "        'Accuracy': accuracy_score(y_test, y_pred_test),\n",
    "        'Precision': precision_score(y_test, y_pred_test),\n",
    "        'Recall': recall_score(y_test, y_pred_test),\n",
    "        'AUC (on the entire dataset)': roc_auc_score(y_true, scores),\n",
    "        'Balanced Accuracy': balanced_accuracy_score(y_test, y_pred_test)\n",
    "    }\n"
   ]
  },
  {
   "cell_type": "code",
   "execution_count": 3,
   "id": "d5724b46",
   "metadata": {},
   "outputs": [],
   "source": [
    "import json\n",
    "\n",
    "res = {\n",
    "    'books': get_evaluation_metrics(books),\n",
    "    'halu_eval_long_answer': get_evaluation_metrics(halu_eval_long_answer),\n",
    "    'halu_eval_long_answer_knowledge': get_evaluation_metrics(halu_eval_long_answer_knowledge),\n",
    "}\n",
    "\n",
    "with open('../data/output/interrogate_llm_zeroshot/evaluations.json', 'w', encoding='utf-8') as f:\n",
    "    json.dump(res, f, indent=4)"
   ]
  }
 ],
 "metadata": {
  "kernelspec": {
   "display_name": "bachelor-thesis",
   "language": "python",
   "name": "python3"
  },
  "language_info": {
   "codemirror_mode": {
    "name": "ipython",
    "version": 3
   },
   "file_extension": ".py",
   "mimetype": "text/x-python",
   "name": "python",
   "nbconvert_exporter": "python",
   "pygments_lexer": "ipython3",
   "version": "3.13.2"
  }
 },
 "nbformat": 4,
 "nbformat_minor": 5
}
