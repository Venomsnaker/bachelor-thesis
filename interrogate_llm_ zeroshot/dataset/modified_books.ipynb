{
 "cells": [
  {
   "cell_type": "code",
   "execution_count": 1,
   "id": "6fae3b01",
   "metadata": {},
   "outputs": [],
   "source": [
    "import pandas as pd\n",
    "\n",
    "def load_data_books(filepath):\n",
    "    df = pd.read_csv(filepath)\n",
    "    data = df.to_dict(orient='records')\n",
    "    return data\n",
    "\n",
    "data = load_data_books('../../data/interrogate_llm_zeroshot/books.csv')"
   ]
  },
  {
   "cell_type": "code",
   "execution_count": 2,
   "id": "6b946403",
   "metadata": {},
   "outputs": [],
   "source": [
    "result = []\n",
    "answer_limit = 50\n",
    "counter = 0\n",
    "\n",
    "for entry in data:\n",
    "    if len(entry['Answer']) < answer_limit:\n",
    "        continue\n",
    "\n",
    "    result.append({\n",
    "        'id': counter,\n",
    "        'question': entry['Question'],\n",
    "        'answer': entry['Answer'],\n",
    "        'is_hallucinated': 1 if entry['Hallucination'] == False else 0,\n",
    "    })\n",
    "    counter += 1"
   ]
  },
  {
   "cell_type": "code",
   "execution_count": 3,
   "id": "f5698ab8",
   "metadata": {},
   "outputs": [],
   "source": [
    "import json\n",
    "\n",
    "output_path = \"../../data/interrogate_llm_zeroshot/books.json\"\n",
    "\n",
    "with open(output_path, 'w', encoding='utf-8') as f:\n",
    "    json.dump(result, f, indent=4)"
   ]
  }
 ],
 "metadata": {
  "kernelspec": {
   "display_name": "bachelor-thesis",
   "language": "python",
   "name": "python3"
  },
  "language_info": {
   "codemirror_mode": {
    "name": "ipython",
    "version": 3
   },
   "file_extension": ".py",
   "mimetype": "text/x-python",
   "name": "python",
   "nbconvert_exporter": "python",
   "pygments_lexer": "ipython3",
   "version": "3.13.2"
  }
 },
 "nbformat": 4,
 "nbformat_minor": 5
}
