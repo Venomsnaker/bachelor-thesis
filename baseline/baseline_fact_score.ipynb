{
 "cells": [
  {
   "cell_type": "markdown",
   "metadata": {},
   "source": [
    "#### Loading Data"
   ]
  },
  {
   "cell_type": "code",
   "execution_count": 1,
   "metadata": {},
   "outputs": [
    {
     "name": "stdout",
     "output_type": "stream",
     "text": [
      "Loading Data\n",
      "\n",
      "Loading HaluEval\n",
      "Length of dialogue_data: 10000\n",
      "Length of general_data: 4507\n",
      "Length of qa_data: 10000\n",
      "Length of summarization_data: 10000\n",
      "\n",
      "Loading HaluEval 2.0\n",
      "Length of Bio-Medical: 200\n",
      "Length of Education: 200\n",
      "Length of Finance: 200\n",
      "Length of Open-Domain: 200\n",
      "Length of Science: 200\n"
     ]
    }
   ],
   "source": [
    "from utils import read_data\n",
    "\n",
    "dataset_halueval, dataset_halueval2 = read_data()"
   ]
  },
  {
   "cell_type": "markdown",
   "metadata": {},
   "source": [
    "#### Set Up FActScore"
   ]
  },
  {
   "cell_type": "code",
   "execution_count": null,
   "metadata": {},
   "outputs": [],
   "source": []
  }
 ],
 "metadata": {
  "kernelspec": {
   "display_name": "bachelorthesis",
   "language": "python",
   "name": "python3"
  },
  "language_info": {
   "codemirror_mode": {
    "name": "ipython",
    "version": 3
   },
   "file_extension": ".py",
   "mimetype": "text/x-python",
   "name": "python",
   "nbconvert_exporter": "python",
   "pygments_lexer": "ipython3",
   "version": "3.12.9"
  }
 },
 "nbformat": 4,
 "nbformat_minor": 2
}
