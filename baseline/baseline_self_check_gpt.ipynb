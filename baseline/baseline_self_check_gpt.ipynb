{
 "cells": [
  {
   "cell_type": "markdown",
   "metadata": {},
   "source": [
    "## Set Up"
   ]
  },
  {
   "cell_type": "markdown",
   "metadata": {},
   "source": [
    "#### Libraries"
   ]
  },
  {
   "cell_type": "code",
   "execution_count": 1,
   "metadata": {},
   "outputs": [],
   "source": [
    "import sys\n",
    "sys.path.append(\"self_check_gpt\")\n",
    "\n",
    "import os\n",
    "from pathlib import Path\n",
    "import json\n",
    "import re\n",
    "import time\n",
    "from tqdm import tqdm\n",
    "from dotenv import load_dotenv\n",
    "\n",
    "import pandas as pd\n",
    "\n",
    "import warnings\n",
    "warnings.filterwarnings(\"ignore\")\n",
    "\n",
    "from helper.utils import read_data\n",
    "from self_check_gpt import modeling_selfcheck"
   ]
  },
  {
   "cell_type": "markdown",
   "metadata": {},
   "source": [
    "#### Datasets"
   ]
  },
  {
   "cell_type": "code",
   "execution_count": 2,
   "metadata": {},
   "outputs": [
    {
     "name": "stdout",
     "output_type": "stream",
     "text": [
      "Load HaluEval 2.0\n",
      "Length of Bio-Medical: 200.\n",
      "Length of Education: 200.\n",
      "Length of Finance: 200.\n",
      "Length of Open-Domain: 200.\n",
      "Length of Science: 200.\n",
      "\n",
      "Loading SelfCheckGPT\n",
      "The length of the dataset: 238.\n"
     ]
    }
   ],
   "source": [
    "FOLDER_PATH_HALUEVAL = \"data/halu_eval_2\"\n",
    "FILE_PATH_SELFCHECKGPT = \"data/self_check_gpt/dataset_v3.json\"\n",
    "\n",
    "dataset_halueval, dataset_selfcheckgpt = read_data(FOLDER_PATH_HALUEVAL, FILE_PATH_SELFCHECKGPT)"
   ]
  },
  {
   "cell_type": "code",
   "execution_count": 3,
   "metadata": {},
   "outputs": [
    {
     "data": {
      "text/plain": [
       "{'gpt3_text': \"John Russell Reynolds (1820–1876) was an English lawyer, judge, and author. He was born in London, the son of a barrister, and was educated at Eton College and Trinity College, Cambridge. He was called to the bar in 1845, and became a Queen's Counsel in 1859. He was appointed a judge of the Court of Common Pleas in 1867, and was knighted in 1871.\\n\\nReynolds was a prolific author, writing on a wide range of topics. He wrote several books on legal topics, including The Law of Libel and Slander (1863), The Law of Copyright (1865), and The Law of Patents for Inventions (1868). He also wrote on a variety of other topics, including history, biography, and literature. He was a frequent contributor to the Saturday Review, and wrote several books on Shakespeare, including The Mystery of William Shakespeare (1848) and The Authorship of Shakespeare (1875). He also wrote a biography of the poet John Keats (1848).\",\n",
       " 'wiki_bio_text': 'Sir John Russell Reynolds, 1st Baronet (22 May 1828 – 29 May 1896) was a British neurologist and physician. Reynolds was born in Romsey, Hampshire, as the son of John Reynolds, an independent minister, and the grandson of Dr. Henry Revell Reynolds. He received general education from his father, and was educated in his profession at University College, London, where he obtained three gold medals in the medical school. In 1851, he graduated M.B. in the University of London, and obtained a scholarship and gold medal in medicine. In 1852, he took the degree of M.D., and began practice in Leeds. He soon after moved to London, and took a house, 38 Grosvenor Street, in which Dr. Marshall Hall had lived. Hall announced to his patients in a printed circular that Reynolds had succeeded him in practice. Such procedure was contrary to a recognised understanding among physicians, and Hall incurred the censure of the College of Physicians. Reynolds, who was ignorant of Hall\\'s intention, was in no way responsible for the circular, and was in no way involved in the censure. He was duly elected a Fellow of the College in 1859. In the same year, he was appointed Assistant Physician to University College Hospital, to which he continued attached throughout life. He had before been, in 1855, Assistant Physician to the Hospital for Sick Children, and in 1857 Assistant Physician to the Westminster Hospital. In 1865, he became Professor of the Principles and Practice of Medicine at University College, and in 1878 he was appointed Physician-in-Ordinary to the Queen\\'s Household. He gained a considerable practice as a physician, and was often consulted in difficult cases of nervous disease. In 1869, he was elected a Fellow of the Royal Society, and in 1883 Vice-President of the Royal Medical and Chirurgical Society. He delivered the Lumleian Lecture at the College of Physicians in 1867, the Harveian Oration in 1884, and was elected President in 1893, on the death of Sir Andrew Clark. He was re-elected in 1894 and 1895, and on 1 January in the latter year was created a Baronet. In the winter of 1895–96, he became too ill to offer himself for re-election as President of the College of Physicians. He died at his house in Grosvenor Street, London, after several weeks of illness of a pulmonary congestion, on 29 May 1896. He was married, first, to Miss Ainslie, and, secondly, to Frances, widow of C. J. C. Crespigny, but left no children. The \"Reynolds Baronetcy\", of Grosvenor Street, was created in the Baronetage of the United Kingdom on 28 February 1895 for John Russell Reynolds. The title became extinct on his death. Reynolds devoted himself from an early period to the study of nervous diseases, and in 1854 published an \"Essay on Vertigo\"; in 1855 \"Diagnosis of Diseases of the Brain, Spinal Cord, and Nerves\", as well as \"Tables for the Diagnosis of Diseases of the Brain\"; in 1861 a treatise on epilepsy; in 1871 \"Lectures on the Clinical Uses of Electricity\"; in 1872 \"The Scientific Value of the Legal Tests of Insanity\"; besides many papers in medical periodicals and the transactions of medical societies, and several addresses to medical associations. His writings on nervous diseases were useful contributions to a department of medicine in which much work remained undone, but in the flood of modern observations they have been submerged. He will chiefly be remembered among physicians as the editor of the \"System of Medicine\", in five volumes, published from 1866 to 1879, a collection of essays on diseases, written by the most competent men who could be induced to write – compositions of varying merit, but generally of high value. He himself wrote the parts on erysipelas, on inflammation of the lymphatics, and on several forms of nervous disease. He published in 1893 a \"Life of Dr. Walter Hayle Walshe\". Reynolds was a tall man, with dark hair, with a dignified delivery and some oratorical power. Reynolds died in London.',\n",
       " 'gpt3_sentences': ['John Russell Reynolds (1820–1876) was an English lawyer, judge, and author.',\n",
       "  'He was born in London, the son of a barrister, and was educated at Eton College and Trinity College, Cambridge.',\n",
       "  \"He was called to the bar in 1845, and became a Queen's Counsel in 1859.\",\n",
       "  'He was appointed a judge of the Court of Common Pleas in 1867, and was knighted in 1871.',\n",
       "  'Reynolds was a prolific author, writing on a wide range of topics.',\n",
       "  'He wrote several books on legal topics, including The Law of Libel and Slander (1863), The Law of Copyright (1865), and The Law of Patents for Inventions (1868).',\n",
       "  'He also wrote on a variety of other topics, including history, biography, and literature.',\n",
       "  'He was a frequent contributor to the Saturday Review, and wrote several books on Shakespeare, including The Mystery of William Shakespeare (1848) and The Authorship of Shakespeare (1875).',\n",
       "  'He also wrote a biography of the poet John Keats (1848).'],\n",
       " 'annotation': ['major_inaccurate',\n",
       "  'major_inaccurate',\n",
       "  'major_inaccurate',\n",
       "  'major_inaccurate',\n",
       "  'major_inaccurate',\n",
       "  'major_inaccurate',\n",
       "  'major_inaccurate',\n",
       "  'major_inaccurate',\n",
       "  'major_inaccurate'],\n",
       " 'wiki_bio_test_idx': 62464,\n",
       " 'gpt3_text_samples': ['John Russell Reynolds (1 November 1829  – 11 March 1907) was an English lexicographer, editor and author. Born in London, he was the eldest son of the first Lord Ogmore, and was educated at Trinity College, Oxford, where he graduated B.A. in 1852 and became a Fellow in 1854. He was president of Magdalen Hall from 1864 to 1884, and from 1864 to 1883 was assistant-editor to the Oxford English Dictionary under James Murray. \\n\\nHe was a permanent contributor to The Saturday Review, and wrote several books about the House of Commons. He also compiled dictionaries of quotations and biographies and edited collections of newspaper articles. He had a particular interest in the works of Christian mystics, writing studies of the lives and works of Saints Augustine and Thomas à Kempis. For his edition of Thomas à Kempis\\' \"The Imitation of Christ\", first published in 1875, he wrote a biographical introduction.',\n",
       "  \"John Russell Reynolds (26 April 1819 – 17 June 1879) was an English poet, journalist and government servant. He was born in London and lived most of his life in the capital, although he spent a few years in the U.S.A.\\n\\nReynolds began his literary career writing reviews and verses for the Magazine of the British and Foreign Bible Society. In 1840, he was appointed as a commissioner in the Department of Woods and Forests and was later promoted to Secretary of the Office of Works in 1867.\\n\\nHe wrote translations of Virgil's Eclogues and Georgics, and subsequently wrote a number of poems for various periodicals. His most famous poem is probably The Forsaken Merman, in which he expresses sympathy for the fate of a mermaid who is forced to leave her Sea-King home.\\n\\nReynolds also published a long narrative poem, The Young Shepherds of Arcady, in 1851 and composed other poem collections such as The Holy Year in Poetry, The Poetical Remains of John Russel Reynolds and The Choicest Songs of John Russel\",\n",
       "  \"John Russell Reynolds (1820-1876) was an English lawyer, author, political theorist, and civil servant. He is widely known for his contributions to English jurisprudence, was the author of many books and pamphlets, especially in constitutional law, and is often credited as the father of codified English common law. Reynolds was born in London on 21 June 1820, the son of John Reynolds, a clerk in the Exchequer, and his wife Anna Pollock. He was educated at Dean Close School, and then at St. Edmund Hall, Oxford, from which he graduated BA in 1842; he was called to the bar at Lincoln's Inn in 1849. He was a member of the Royal Commission for the Revision of the Criminal Law, and with the help of his father drafted the Criminal Law Consolidation Acts of 1861 and 1864. He was legal member of the Indian Council from 1870 to 1876 and published his principle works, The Institutes of the Laws of England in 1869, and followed it up with The Laws of England in 1871, which is still consulted today. His influence on British law\",\n",
       "  \"John Russell Reynolds (1817 – 1879) was a British lawyer, translator and classical scholar. He was a contemporary of, and may have been influenced by, the Philhellenist Richard Payne Knight.\\n\\nReynolds was born in London, where he was educated at Westminster School. He then studied the classics at Queen's College, Oxford, graduating in 1839. He was called to the bar of the Inner Temple in 1843.\\n\\nReynolds became a popular translator from ancient Greek and Latin, often using creative license to give the English translation poetic flourish. Among the works he translated are Theocritus in 1845 and the Treatise on Oratory by the Roman rhetorician Quintilian in 1856.\\n\\nReynolds was also a lawyer and Fellow of the Royal Society and published many other works. He was appointed Reader in Poetry at Oxford in 1861 and predeceased his father, Sir John Richardson Reynolds. He was buried in the North Cemetery of Oxford.\",\n",
       "  \"John Russell Reynolds (3 August 1827 – 6 March 1876) was an English barrister, judge, legal writer and the first editor of The Law Times. He was the fifth child and eldest son of Kemble Reynolds, a prominent member of the London Stock Exchange.\\n\\nReynolds was educated at Harrow School before being called to the Bar at Lincoln's Inn in 1849. He went on to become a conveyancer, and selected as the first editor of The Law Times. He became a Queen's Counsel in 1866 and was appointed to the Common Pleas Division of the High Court of Justice in 1868. \\n\\nReynolds was highly respected as a jurist and he is regarded as one of the most important legal writers of the 19th century. He wrote several books and articles on a variety of topics, including real property, private international law, and equity. He was also a prolific contributor to legal journals, and edited several editions of Hargrave's Law of Nations. He is credited with writing the authoritative work on trusts and estates, the Treatise on the Law of Trusts, which has remained\",\n",
       "  'John Russell Reynolds (1816–1876) was an English physician, author and literary critic. Born on the Isle of Wight, Russell Reynolds studied medicine in London and at University of Edinburgh. He became a Fellow of the Royal College of Physicians of London in 1843 before settling in Bloomsbury with his practice. He wrote prolifically and was considered a scholar of Shakespeare and other literary works. He wrote for several journals, edited and published a five-volume edition of the works of William Shakespeare, published The Shakespeare Library based on his collection and delivered lectures on Shakespeare and other authors. In his spare time, he worked on a revision and remedial editing of the Augustan poets and produced a number of scholarly works. He also contributed to medical journals, but was unsuccessful in his application to become a physician to the Household of Queen Victoria.',\n",
       "  'John Russell Reynolds (1820–1876) was an English writer and physician known for his significant contributions to the development of Victorian medicine and to literature. He published several works, including passionate poems and madrigals, a popular novel, and two books on medicine.\\n\\nReynolds was born in London in 1820 to Dr. John Reynolds, a music teacher and a medical student, and his wife, Anne Ravell. He received his first medical education at the Royal College of Physicians between 1838 and 1841 and married Henrietta Ann Seale three years later. Reynolds served as fellow at the Royal College of Surgeons between 1846 and 1847, where he taught anatomy and chemistry.\\n\\nIn 1849, he became a resident physician at the newly established West London Hospital. Five years later, he was appointed as consulting physician and lecturer in midwifery and diseases of women. In 1856, Reynolds was elected a Fellow of the Royal College of Physicians and was one of the members of the expert committee on smallpox and vaccination. He was also a member of the committee of the Medical Society of London.',\n",
       "  \"John Russell Reynolds (1827 – 1891) was an English physician and neurologist. He was born in London, the eldest son of a lawyer. He studied medicine at St Bartholomew’s Hospital, London, and graduated in 1849 with a distinction in medicine.\\n\\nReynolds was a member of the Royal College of Physicians and also of the Royal College of Surgeons of England. He was a prominent member of the medical profession and gained recognition for his work in medicine, neurology and psychiatry. He wrote numerous books on medicine and neurology, the most notable being his 'Diseases of the Nervous System' published in 1867, which was one of the first textbooks in modern neurology.\\n\\nReynolds was appointed Physician Extraordinary to Queen Victoria in 1876, and was knighted two years later in 1878. He became an honorary fellow of the Royal College of Physicians in 1889. He was a very brilliant medical specialist who was respected by many of his peers. He died in London in 1891.\",\n",
       "  \"John Russell Reynolds (17 April 1819 – 18 May 1879) was an English judge and law writer. He was the eldest son of Thomas Reynolds and his wife Judith, née Burton. He received his early education at a private school, and at the age of fifteen he was articled to a solicitor in London.\\n\\nReynolds was called to the bar at the Middle Temple in 1844. In the following year he published a book of legal maxims, which was favourably noticed, and brought him into general repute among the profession. He served on the Oxford circuit, where he became a leader, and was made a Queen's Counsel in 1860.\\n\\nIn 1870 Reynolds was appointed to the Common Pleas Bench; and he was made a High Court judge in 1881. The same year he published his principal work, The Common Law and Equity. He also wrote a number of books on law and legal cases, as well as single essay and various biographies.\\n\\nDuring his time as a judge Reynolds was notable for his respect for existing precedents. He propounded that precedent and tradition were the twin sources of\",\n",
       "  \"John Russell Reynolds (18 January 1832–6 February 1893) was an English lawyer and Judge best remembered for two of his judgments. The first, in 1878, affirmed meaning of the Indian Evidence Act, now embodies in section 32 of the Indian Evidence Act, 1872. The second, in 1887, established that a temple construct by the Shewanid dynasty of the Marathas counts as an antiquity, and qualifies under the Ancient Monuments Preservation Act, 1882.\\n\\nReynolds was born 18 January 1832 at Bushey, Hertfordshire, the fifth child of James and his wife, Ann Lewis. He was educated at Charterhouse and studied law at Lincoln's Inn. He was called to the Bar in 1859, becoming a QC in 1877.\\n\\nIn 1880, Reynolds was appointed Judge of the High Court of Judicature at Bombay, a post held until 1885, when he returned to England. In 1891, he was appointed a Baron of the Exchequer, a position held when he died of a third stroke on 6 February 1893. A portrait of John Russell Reynolds, painted\",\n",
       "  \"John Russell Reynolds (15 October 1828 – 16 February 1896) was an English lawyer and bibliographer. He is best known for his work, The Life and Correspondence of Thomas Reid (1870), the first biography of the Scottish philosopher Thomas Reid. He also wrote papers on legal topics and published The Law Magazine and Law Review, an influential legal publication.\\n\\nReynolds was born in London and educated at Eton College and at Trinity College, Cambridge. After graduating, he was called to the bar in 1849, worked as a journalist, and was an editorial assistant to Charles Knight in London. In 1862, he became a commissioner in bankruptcy, and in 1871 he was made assistant judge of the County Court. From 1876 to 1893 he was a member of the syndicate of judges of the Common Pleas, Queen's Bench and Chancery divisions. \\n\\nReynolds was a close friend of Charles Darwin, who dedicated his book The Descent of Man (1871) to him. He was an active member of the Metaphysical Society, a diverse group of intellectuals that gathered to discuss science,\",\n",
       "  'John Russell Reynolds (7 August 1817 – 4 November 1876) was an English surgeon, author and naturalist, who was one of the leading medical practitioners of the Victorian era in England. He was born in London, and was the third son of Thomas Reynolds, a physician. He was educated first at King\\'s College School, then attended University College Hospital, where he trained to become a surgeon. He graduated with honours in 1844, He was elected President of the Laryngological Society in 1869 and a Fellow of the Royal College of Physicians of London in 1871. He was a Fellow of the Royal College of Surgeons in 1841, Fellow of the Linnean Society in 1846 and was also a member of numerous other scientific societies and associations. He rose to become one of the most respected and renowned physicians of his age, praised for his exceptional skill and care, as well as his expansive knowledge on a variety of medical subjects. He published over fifty works, including \"A Treatise on the Medical Effects of Air, Climate and Locality\" (1844), \"A Treatise on Fevers and Inf',\n",
       "  \"John Russell Reynolds (18 January 1817 – 22 April 1876) was an English surgeon and antiquarian, who served on the Royal Commission on the British Museum and was one of the first curators of the then newly founded Natural History Museum in South Kensington.\\n\\nReynolds was born in London, to James and Anne (née Locke) Reynolds. He was educated at private schools, was apprenticed to a surgeon at St Thomas' Hospital in 1834 and obtained the gold medal of the college. He became FRCS in 1836, and FRS in the same year.\\n\\nReynolds served on the Royal Commission on the British Museum from 1861 to 1865, before being appointed the first curator of the then newly founded Natural History Museum in South Kensington. During his tenure, he was responsible for the cataloguing and improving of the collections at the museum, which had been left in a state of disorder by its predecessor. He retired in December 1871 owing to ill health, and died in 1876.\",\n",
       "  \"John Russell Reynolds (1826–1876) was an English mathematician, who was born 25 April 1826. He is especially remembered for his texts on algebra and calculus; but he also wrote extensively on geometry and the use of infinitesimals.\\n\\nHe was educated at Beccles Grammar School and Trinity College, Cambridge, where he was senior wrangler and first Smith's prizeman in 1849. In 1849, Reynolds was appointed second wrangler and first Smith prizeman at Trinity College, Cambridge. As a student he was nicknamed ‘wicked’ due to his mischievous behaviour, but this changed when he became a Fellow and lecturer at Trinity College in 1850.\\n\\nReynolds wrote many books, and in 1868 he was elected to the Royal Society. He was an influential figure in Cambridge and was respected by his friends and colleagues. He was widely respected for his personal integrity and was known to be 'very caring in his teaching'. \\n\\nHe died in 1876.\",\n",
       "  'John Russell Reynolds (18 October 1799 - 22 April 1879) was an English lawyer and literary editor. He became a Fellow of the Royal Society in 1863, one of the first lawyers to be so honoured.\\n\\nReynolds was born in London, the second son of John Reynolds, a silk-mercer in Ludgate Hill. His ancestors for several generations had been landowners in Essex and Somerset. After attending Westminster School, in 1817 he entered the Middle Temple, and in 1820 was called to the bar, but did not practice.\\n\\nFrom 1833 he was an editor of the Quarterly Review, with Sir Robert Inglis, till in April 1860 he was compelled by infirmities, attributable to advanced age, to resign the appointment. Later he became honorary editor of the works of Sir Walter Scott, and he superintended other important publications. \\n\\nReynolds was a Gurneyite Quaker, and in 1847 was appointed one of the vice-presidents of the British and Foreign Bible Society, which continued to be his principal interest until his death. He was the author of several collections',\n",
       "  \"John Russell Reynolds (12 May 1794 – 8 January 1869) was an English author and philologist. He was born in Sandford near Crediton, Devon, the fifth son of John Reynolds (1759–1831), a banker and lawyer, and his wife Anne, née Russell. He was educated at Eton College, and in 1814 obtained a scholarship to Balliol College, Oxford, where he took his Bachelor of Arts degree in 1817, and proceeded to a Master of Arts (MA) degree in 1820.\\n\\nReynolds was the author of several works, mostly on philological and antiquarian topics, including one of the earliest popular books on British birds, The Fire-side Naturalist (1830). He also wrote a two-volume biography of William Shakespeare; with annotated choices from Shakespeare's works, arranged in chronological order appearing in 13 monthly parts in 1840–1; and a two-volume biography of the poet and engraver Thomas Bewick, with a portrait and sixteen engravings, in 1856. In 1810 he published the first paper by an English writer on\",\n",
       "  'John Russell Reynolds (11 April 1792 – 11 December 1872) was an English lawyer and antiquary. He was a prominent figure in Victorian legal circles, and his scholarship helped to establish the practice of English legal history in the 19th century.\\n\\nReynolds was born into a legal family in London, and from a very young age he began involvement with the legal profession. He received an honorary degree from Balliol College in 1815, after which he studied the law under John Singleton Copley (later Lord Lyndhurst). He was called to the bar in 1819, and initially practised as a special pleader and conveyancer.\\n\\nHe enjoyed considerable success in his legal career, eventually becoming one of the leading counsel of the day. In 1836, he was made a QC, and was appointed solicitor-general for Ireland in 1840. His distinguished career in legal circles also earned him the accolade of being knighted in 1845.\\n\\nAside from his legal practice, Reynolds was also known for his work as an antiquarian. He was elected a Fellow of the Society of Antiquaries of London in 18',\n",
       "  'John Russell Reynolds (1792–1852) was a British physician, classicist, and author. He was educated at Trinity College, Dublin, where he studied classics in addition to medicine. Reynolds achieved success as a physician and was appointed one of the first four physicians at the Royal Infirmary in Edinburgh in 1830.\\n\\nIn addition to his medical career, Reynolds wrote extensively in the fields of classical studies and lexicography. He is known for his translations of classical literature, such as Aeschylus and Euripides, and for his Latin-English Lexicon, which was published in four volumes between 1835 and 1840. He was a popular lecturer and was influential in bringing together the classicists and philologists who later founded the Cambridge Philological Society.',\n",
       "  \"John Russell Reynolds (3 December 1876 – 21 April 1950) was an English medical doctor and psychoanalyst who is best known as an analyst of Sigmund Freud. Reynolds, who was initially trained in medicine, went on to a substantial career in psychotherapy and became a major exponent of psychoanalysis in the United Kingdom.\\n\\nReynolds was born in London, the son of a doctor, Thomas Waring Reynolds. He attended the Westminster School, followed by Magdalen College, Oxford, where he completed his medical training in 1901. He initially worked at St Bartholomew's Hospital, London, then became physician to the Portman Mental Hospital in London, and later the Royal Northern Hospital, also in London. In 1915, he served as a major with the Royal Army Medical Corps.\\n\\nIn 1922 Reynolds was one of the early members of the British Psychoanalytic Society, which had been founded the previous year, and was one of the few ‘original members’ who had had personal contact with Freud. He served as the president of the British Psychoanalytical Society in 1938 and 1939.\",\n",
       "  \"John Russell Reynolds (1777–1850) was an eminent English physician and member of the Royal College of Physicians. He was one of the most celebrated and influential of his time, and his important contributions to medicine and natural sciences have secured his place in the history of British science.\\n\\nReynolds was born in York, England, and attended Magdalen College, Oxford, graduating with a B.A. in 1800. His medical studies began at St Bartholomew's Hospital, London, and in 1804 he was appointed house physician, starting a long and distinguished medical career. Reynolds gradually obtained wider recognition and was elected to the Royal College of Physicians in 1810. After this point, he rose through its ranks until he became Secretary in 1823. In 1835, he was made a Councillor, 1845 an Elector, and in 1848, he returned to his academic roots and assumed the role of Vice-President.\\n\\nReynolds made numerous contributions to medicine, including the first description in English of the fourth subgroup of the genus Brucella, now commonly known as Brucella melit\"]}"
      ]
     },
     "execution_count": 3,
     "metadata": {},
     "output_type": "execute_result"
    }
   ],
   "source": [
    "dataset_selfcheckgpt[0]"
   ]
  },
  {
   "cell_type": "markdown",
   "metadata": {},
   "source": [
    "#### Metrics"
   ]
  },
  {
   "cell_type": "code",
   "execution_count": 4,
   "metadata": {},
   "outputs": [
    {
     "name": "stdout",
     "output_type": "stream",
     "text": [
      "Initiate OpenAI client... model = solar-pro\n",
      "SelfCheck-1gram initialized\n"
     ]
    }
   ],
   "source": [
    "SENTENCE_ENDINGS = r'(?<!\\w\\.\\w.)(?<![A-Z][a-z]\\.)(?<=\\.|\\?|\\!|\\n)\\s*'\n",
    "\n",
    "load_dotenv()\n",
    "api_key = os.getenv('UPSTAGE_API_KEY')\n",
    "\n",
    "selfcheckgpt_prompt = modeling_selfcheck.SelfCheckAPIPrompt(\n",
    "    client_type=\"openai\", \n",
    "    base_url=\"https://api.upstage.ai/v1/solar\", \n",
    "    model=\"solar-pro\", \n",
    "    api_key=api_key)\n",
    "selfcheckgpt_unigram = modeling_selfcheck.SelfCheckNgram(\n",
    "    n=1\n",
    ")"
   ]
  },
  {
   "cell_type": "markdown",
   "metadata": {},
   "source": [
    "## Testing\n",
    "### Benchmark: Halu Eval"
   ]
  },
  {
   "cell_type": "code",
   "execution_count": 5,
   "metadata": {},
   "outputs": [],
   "source": [
    "output_folder_halueval = \"data\\scores\\halu_eval_2\"\n",
    "\n",
    "for category in dataset_halueval.keys():\n",
    "    output_path_category = Path(os.path.join(output_folder_halueval, category))\n",
    "    \n",
    "    if not output_path_category.is_file():\n",
    "        output_path_category.mkdir(parents=True, exist_ok=True)"
   ]
  },
  {
   "cell_type": "markdown",
   "metadata": {},
   "source": [
    "#### SelfCheckGPT Unigram"
   ]
  },
  {
   "cell_type": "code",
   "execution_count": 6,
   "metadata": {},
   "outputs": [],
   "source": [
    "def perform_halueval_unigram():\n",
    "    for category in dataset_halueval.keys():\n",
    "        samples = dataset_halueval[category]\n",
    "        output_path = os.path.join(output_folder_halueval, category, \"scores_selfcheckgpt_1gram.json\")\n",
    "        scores_halueval_unigram = {}\n",
    "        \n",
    "        for i, sample in enumerate(tqdm(samples)):\n",
    "            response = sample['chatgpt_response']\n",
    "            setences = re.split(SENTENCE_ENDINGS, response)\n",
    "            sentences = [s.strip() for s in setences if s.strip()]\n",
    "            \n",
    "            scores_halueval_unigram[sample['id']] = selfcheckgpt_unigram.predict(\n",
    "                passage=response,\n",
    "                sentences=sentences,\n",
    "                sampled_passages=sample['sample_passages'],\n",
    "            )\n",
    "        \n",
    "        with open(output_path, 'w') as outfile:\n",
    "            json.dump(scores_halueval_unigram, outfile)\n",
    "    \n",
    "# perform_halueval_unigram()"
   ]
  },
  {
   "cell_type": "markdown",
   "metadata": {},
   "source": [
    "#### SelfCheckGPT Prompt API - Solar Pro"
   ]
  },
  {
   "cell_type": "code",
   "execution_count": 7,
   "metadata": {},
   "outputs": [],
   "source": [
    "# TODO: Come up w/ better ways to split sentences.\n",
    "\n",
    "# data = dataset_halueval['Bio-Medical'][28]\n",
    "# data\n",
    "\n",
    "# response = data['chatgpt_response']\n",
    "# setences = re.split(SENTENCE_ENDINGS, response)\n",
    "# sentences = [s.strip() for s in setences if s.strip()]\n",
    "# sentences"
   ]
  },
  {
   "cell_type": "code",
   "execution_count": 8,
   "metadata": {},
   "outputs": [],
   "source": [
    "def perform_halueval_prompt():\n",
    "    for category in dataset_halueval.keys():\n",
    "        print(f\"Processing {category}\")\n",
    "        samples = dataset_halueval[category]\n",
    "        output_path = os.path.join(output_folder_halueval, category, \"scores_selfcheckgpt_prompt_solar_pro.json\")\n",
    "        scores_halueval_prompt = {}\n",
    "        \n",
    "        for i, sample in enumerate(tqdm(samples)):\n",
    "            if i not in [28,28,30]:\n",
    "                continue\n",
    "            \n",
    "            print(sample['id'])\n",
    "            response = sample['chatgpt_response']\n",
    "            setences = re.split(SENTENCE_ENDINGS, response)\n",
    "            sentences = [s.strip() for s in setences if s.strip()]\n",
    "            \n",
    "            scores = selfcheckgpt_prompt.predict(\n",
    "                sentences=sentences,\n",
    "                sample_passages=sample['sample_passages'],\n",
    "            )\n",
    "            scores_halueval_prompt[sample['id']] = list(scores)\n",
    "            \n",
    "        with open(output_path, 'w') as outfile:\n",
    "            json.dump(scores_halueval_prompt, outfile)\n",
    "            \n",
    "# perform_halueval_prompt()"
   ]
  },
  {
   "cell_type": "markdown",
   "metadata": {},
   "source": [
    "### Benchmark: SelfCheckGPT"
   ]
  },
  {
   "cell_type": "code",
   "execution_count": 9,
   "metadata": {},
   "outputs": [],
   "source": [
    "output_folder_selfcheckgpt = \"data\\scores\\self_check_gpt\"\n",
    "output_path = Path(output_folder_selfcheckgpt)\n",
    "\n",
    "if not output_path.is_file():\n",
    "    output_path.mkdir(parents=True, exist_ok=True)"
   ]
  },
  {
   "cell_type": "markdown",
   "metadata": {},
   "source": [
    "#### SelfCheckGPT Unigram"
   ]
  },
  {
   "cell_type": "code",
   "execution_count": 10,
   "metadata": {},
   "outputs": [],
   "source": [
    "def perform_selfcheckgpt_unigram():\n",
    "    scores_selfcheckgpt_unigram = {} \n",
    "    output_path = os.path.join(output_folder_selfcheckgpt, \"scores_selfcheckgpt_1gram.json\")\n",
    "\n",
    "    for i, sample in enumerate(tqdm(dataset_selfcheckgpt)):\n",
    "        scores_selfcheckgpt_unigram[sample['wiki_bio_test_idx']] = selfcheckgpt_unigram.predict(\n",
    "            passage=sample['gpt3_text'],\n",
    "            sentences=sample['gpt3_sentences'],\n",
    "            sampled_passages=sample['gpt3_text_samples'],\n",
    "        )\n",
    "        \n",
    "    with open(output_path, 'w') as outfile:\n",
    "        json.dump(scores_selfcheckgpt_unigram, outfile)\n",
    "        \n",
    "# perform_selfcheckgpt_unigram()"
   ]
  },
  {
   "cell_type": "markdown",
   "metadata": {},
   "source": [
    "#### SelfCheckGPT Prompt API - Solar Pro"
   ]
  },
  {
   "cell_type": "code",
   "execution_count": null,
   "metadata": {},
   "outputs": [
    {
     "name": "stderr",
     "output_type": "stream",
     "text": [
      "100%|██████████| 238/238 [6:20:37<00:00, 95.95s/it]   \n"
     ]
    }
   ],
   "source": [
    "def perform_selfcheck_prompt():\n",
    "    scores_selfcheckgpt_prompt = {}\n",
    "    output_path = os.path.join(output_folder_selfcheckgpt, \"scores_selfcheckgpt_prompt_solar_pro.json\")\n",
    "\n",
    "    for i, sample in enumerate(tqdm(dataset_selfcheckgpt)):\n",
    "        scores = selfcheckgpt_prompt.predict(\n",
    "            sentences=sample['gpt3_sentences'],\n",
    "            sample_passages=sample['gpt3_text_samples'],\n",
    "        )\n",
    "        scores_selfcheckgpt_prompt[sample['wiki_bio_test_idx']] = list(scores)\n",
    "\n",
    "    with open(output_path, 'w') as outfile:\n",
    "        json.dump(scores_selfcheckgpt_prompt, outfile)\n",
    "        \n",
    "# perform_selfcheck_prompt()"
   ]
  }
 ],
 "metadata": {
  "kernelspec": {
   "display_name": "bachelor-thesis",
   "language": "python",
   "name": "python3"
  },
  "language_info": {
   "codemirror_mode": {
    "name": "ipython",
    "version": 3
   },
   "file_extension": ".py",
   "mimetype": "text/x-python",
   "name": "python",
   "nbconvert_exporter": "python",
   "pygments_lexer": "ipython3",
   "version": "3.12.9"
  }
 },
 "nbformat": 4,
 "nbformat_minor": 2
}
